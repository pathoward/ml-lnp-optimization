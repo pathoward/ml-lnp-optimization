{
 "cells": [
  {
   "cell_type": "code",
   "execution_count": 1,
   "metadata": {},
   "outputs": [],
   "source": [
    "#remove irrelevant entries if the formulation was unspecified\n",
    "\n",
    "def remove_irrelevant(input_array, phos_input, ion_input, peg_input, dna_input): \n",
    "    query_array = input_array\n",
    "\n",
    "    #remove rows if the formulation doesn't use that component\n",
    "    if phospholipid != 0:\n",
    "        query_array = input_array[input_array[:,col_phos] == phospholipid]\n",
    "\n",
    "    if ionizable_lipid != 0:\n",
    "        query_array = query_array[query_array[:,col_ion] == ionizable_lipid]\n",
    "\n",
    "    if lipid_PEG != 0:\n",
    "        query_array = query_array[query_array[:,col_peg] == lipid_PEG]\n",
    "\n",
    "    if surface_DNA != 0:\n",
    "        query_array = query_array[query_array[:,col_dna] == surface_DNA]\n",
    "\n",
    "    #Give a heads up\n",
    "    if np.prod(query_array.shape) == 0:\n",
    "        print(\"CAUTION: No training data for the combination of inputted reagents\\n\")\n",
    "    \n",
    "    return(query_array)\n",
    " \n"
   ]
  },
  {
   "cell_type": "code",
   "execution_count": 2,
   "metadata": {},
   "outputs": [],
   "source": [
    "import sys\n",
    "import numpy as np\n",
    "import pandas as pd\n",
    "from io import *\n",
    "from sklearn import linear_model\n",
    "\n",
    "\n",
    "#init lib path\n",
    "allforms_path = \"allforms_data_clean.csv\"\n",
    "\n",
    "#########################################################\n",
    "###     init column vars      ###\n",
    "#identities\n",
    "col_lib = 0\n",
    "col_phos = 1\n",
    "col_ion = 2\n",
    "col_peg = 3\n",
    "col_dna = 4\n",
    "\n",
    "#formulation (percent comp)\n",
    "col_per_phos = 5\n",
    "col_per_chol = 6\n",
    "col_per_ion = 7\n",
    "col_per_peg = 8\n",
    "\n",
    "#results\n",
    "col_encap = 9\n",
    "col_size = 10 #in nm\n",
    "col_stdev = 11 #nm\n",
    "\n",
    "###########################################################\n",
    "\n",
    "#init input vars. Users will be prompted to enter a number corresponded to the reagent provided in the prompt\n",
    "phospholipid = 1\n",
    "ionizable_lipid = 2\n",
    "lipid_PEG = 2\n",
    "surface_DNA = 0\n",
    "user_size = 0\n",
    "\n",
    "###########################################################\n",
    "\n",
    "#convert raw lib into numpy array\n",
    "allforms = np.genfromtxt(allforms_path, delimiter=\",\", skip_header=1)\n",
    "\n",
    "#isolate relevant data\n",
    "query_array = remove_irrelevant(allforms, phospholipid, ionizable_lipid, lipid_PEG, surface_DNA)\n",
    "\n",
    "\n",
    "\n"
   ]
  },
  {
   "cell_type": "code",
   "execution_count": 25,
   "metadata": {},
   "outputs": [
    {
     "name": "stderr",
     "output_type": "stream",
     "text": [
      "/Library/Frameworks/Python.framework/Versions/3.10/lib/python3.10/site-packages/sklearn/linear_model/_logistic.py:444: ConvergenceWarning: lbfgs failed to converge (status=1):\n",
      "STOP: TOTAL NO. of ITERATIONS REACHED LIMIT.\n",
      "\n",
      "Increase the number of iterations (max_iter) or scale the data as shown in:\n",
      "    https://scikit-learn.org/stable/modules/preprocessing.html\n",
      "Please also refer to the documentation for alternative solver options:\n",
      "    https://scikit-learn.org/stable/modules/linear_model.html#logistic-regression\n",
      "  n_iter_i = _check_optimize_result(\n"
     ]
    }
   ],
   "source": [
    "\n",
    "#define input/output arrays and build model\n",
    "\n",
    "focus_percentage_training = query_array[:,(col_dna+1):(col_encap)] #molar percentages of relevant formulations\n",
    "all_percentage_training = allforms[:,(col_dna+1):(col_encap)] #molar percentages of all formulations\n",
    "\n",
    "focus_size_training = query_array[:,(col_size):(col_size+1)].flatten() #molar percentages of relevant formulations\n",
    "all_size_training = allforms[:,(col_size):(col_size+1)].flatten() #molar percentages of all formulations\n",
    "\n",
    "\n",
    "#create models and make fits, 'liblinear' used due to small dataset sizes\n",
    "focused_model = linear_model.LogisticRegression(solver='liblinear')\n",
    "all_model = linear_model.LogisticRegression(solver='liblinear')\n",
    "\n",
    "focus = focused_model.fit(focus_percentage_training, focus_size_training)\n",
    "broad = all_model.fit(all_percentage_training, all_size_training)"
   ]
  },
  {
   "cell_type": "code",
   "execution_count": null,
   "metadata": {},
   "outputs": [],
   "source": []
  }
 ],
 "metadata": {
  "kernelspec": {
   "display_name": "Python 3.10.4 64-bit",
   "language": "python",
   "name": "python3"
  },
  "language_info": {
   "codemirror_mode": {
    "name": "ipython",
    "version": 3
   },
   "file_extension": ".py",
   "mimetype": "text/x-python",
   "name": "python",
   "nbconvert_exporter": "python",
   "pygments_lexer": "ipython3",
   "version": "3.10.4"
  },
  "orig_nbformat": 4,
  "vscode": {
   "interpreter": {
    "hash": "aee8b7b246df8f9039afb4144a1f6fd8d2ca17a180786b69acc140d282b71a49"
   }
  }
 },
 "nbformat": 4,
 "nbformat_minor": 2
}
