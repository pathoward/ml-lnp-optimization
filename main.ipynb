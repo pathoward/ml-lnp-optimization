{
 "cells": [
  {
   "cell_type": "code",
   "execution_count": 13,
   "metadata": {},
   "outputs": [],
   "source": [
    "import sys\n",
    "import numpy as np\n",
    "import pandas as pd\n",
    "from io import *\n",
    "from sklearn import linear_model\n",
    "\n",
    "\n",
    "# !{sys.executable} conda install pandas\n",
    "\n",
    "#init lib path\n",
    "allforms_path = \"allforms_data_clean.csv\"\n",
    "\n",
    "#########################################################\n",
    "###     init column vars      ###\n",
    "#identities\n",
    "col_lib = 0\n",
    "col_phos = 1\n",
    "col_ion = 2\n",
    "col_peg = 3\n",
    "col_dna = 4\n",
    "\n",
    "#formulation (percent comp)\n",
    "col_per_phos = 5\n",
    "col_per_chol = 6\n",
    "col_per_ion = 7\n",
    "col_per_peg = 8\n",
    "\n",
    "#results\n",
    "col_encap = 9\n",
    "col_size = 10 #in nm\n",
    "col_stdev = 11 #nm\n",
    "\n",
    "###########################################################\n",
    "\n",
    "#init input vars. Users will be prompted to enter a number corresponded to the reagant provided in the prompt\n",
    "phospholipid = 1\n",
    "ionizable_lipid = 2\n",
    "lipid_PEG = 2\n",
    "surface_DNA = 0\n",
    "user_size = 0\n",
    "\n",
    "###########################################################\n",
    "\n",
    "#convert raw lib into numpy array\n",
    "allforms = np.genfromtxt(allforms_path, delimiter=\",\", skip_header=1)"
   ]
  },
  {
   "cell_type": "code",
   "execution_count": 14,
   "metadata": {},
   "outputs": [
    {
     "name": "stdout",
     "output_type": "stream",
     "text": [
      "[[1.080e+02 1.000e+00 2.000e+00 2.000e+00 1.000e+00 2.250e+01 2.500e+01\n",
      "  5.000e+01 2.500e+00 8.300e+01 1.900e+02 9.100e+01]\n",
      " [1.012e+03 1.000e+00 2.000e+00 2.000e+00 1.000e+00 1.250e+01 3.500e+01\n",
      "  5.000e+01 2.500e+00 8.700e+01 1.780e+02 8.300e+01]\n",
      " [1.013e+03 1.000e+00 2.000e+00 2.000e+00 1.000e+00 2.000e+01 2.500e+01\n",
      "  5.000e+01 5.000e+00 8.500e+01 2.310e+02 8.100e+01]\n",
      " [1.015e+03 1.000e+00 2.000e+00 2.000e+00 1.000e+00 1.000e+01 3.500e+01\n",
      "  5.000e+01 5.000e+00 8.300e+01 1.870e+02 8.400e+01]]\n"
     ]
    }
   ],
   "source": [
    "#remove irrelevant entries if the formulation was unspecified\n",
    "\n",
    "if phospholipid != 0:\n",
    "    query_array = allforms[allforms[:,col_phos] == phospholipid]\n",
    "\n",
    "if ionizable_lipid != 0:\n",
    "    query_array = query_array[query_array[:,col_ion] == ionizable_lipid]\n",
    "\n",
    "if lipid_PEG != 0:\n",
    "    query_array = query_array[query_array[:,col_peg] == lipid_PEG]\n",
    "\n",
    "if surface_DNA != 0:\n",
    "    query_array = query_array[query_array[:,col_dna] == surface_DNA]\n",
    "\n",
    "print(query_array)\n"
   ]
  }
 ],
 "metadata": {
  "kernelspec": {
   "display_name": "Python 3.10.4 64-bit",
   "language": "python",
   "name": "python3"
  },
  "language_info": {
   "codemirror_mode": {
    "name": "ipython",
    "version": 3
   },
   "file_extension": ".py",
   "mimetype": "text/x-python",
   "name": "python",
   "nbconvert_exporter": "python",
   "pygments_lexer": "ipython3",
   "version": "3.10.4"
  },
  "orig_nbformat": 4,
  "vscode": {
   "interpreter": {
    "hash": "aee8b7b246df8f9039afb4144a1f6fd8d2ca17a180786b69acc140d282b71a49"
   }
  }
 },
 "nbformat": 4,
 "nbformat_minor": 2
}
