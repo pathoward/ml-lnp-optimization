{
 "cells": [
  {
   "cell_type": "code",
   "execution_count": 33,
   "metadata": {},
   "outputs": [
    {
     "name": "stdout",
     "output_type": "stream",
     "text": [
      "[[  nan   nan   nan   nan   nan  10.   35.   50.    5.   82.  159.   79. ]\n",
      " [  nan   nan   nan   nan   nan  24.   25.   50.    1.   84.  279.  107. ]\n",
      " [  nan   nan   nan   nan   nan  20.   25.   50.    5.   67.  227.   81. ]\n",
      " [  nan   nan   nan   nan   nan  14.   35.   50.    1.   85.  221.  105. ]\n",
      " [  nan   nan   nan   nan   nan  12.5  35.   50.    2.5  86.  203.   85. ]\n",
      " [  nan   nan   nan   nan   nan  22.5  25.   50.    2.5  74.  246.   91. ]\n",
      " [  nan   nan   nan   nan   nan  12.5  35.   50.    2.5  78.  195.   87. ]\n",
      " [  nan   nan   nan   nan   nan  22.5  25.   50.    2.5  83.  190.   91. ]\n",
      " [  nan   nan   nan   nan   nan  10.   35.   50.    5.   56.  236.   71. ]\n",
      " [  nan   nan   nan   nan   nan  24.   25.   50.    1.   88.  277.   91. ]\n",
      " [  nan   nan   nan   nan   nan  22.5  25.   50.    2.5  71.  222.   71. ]\n",
      " [  nan   nan   nan   nan   nan  12.5  35.   50.    2.5  87.  178.   83. ]\n",
      " [  nan   nan   nan   nan   nan  20.   25.   50.    5.   85.  231.   81. ]\n",
      " [  nan   nan   nan   nan   nan  14.   35.   50.    1.   79.  227.   60. ]\n",
      " [  nan   nan   nan   nan   nan  10.   35.   50.    5.   83.  187.   84. ]\n",
      " [  nan   nan   nan   nan   nan  24.   25.   50.    1.   71.  229.   69. ]\n",
      " [  nan   nan   nan   nan   nan  24.   25.   50.    1.   83.  209.   81. ]\n",
      " [  nan   nan   nan   nan   nan  10.   35.   50.    5.   80.  144.   79. ]\n",
      " [  nan   nan   nan   nan   nan  12.5  35.   50.    2.5 100.  194.   80. ]\n",
      " [  nan   nan   nan   nan   nan  12.5  35.   50.    2.5 103.  197.   73. ]\n",
      " [  nan   nan   nan   nan   nan  22.5  25.   50.    2.5  77.  220.   77. ]\n",
      " [  nan   nan   nan   nan   nan  22.5  25.   50.    2.5  84.  217.   76. ]\n",
      " [  nan   nan   nan   nan   nan   1.5  45.   50.    3.5  95.  202.   73. ]\n",
      " [  nan   nan   nan   nan   nan   1.5  45.   50.    3.5  97.  184.   76. ]\n",
      " [  nan   nan   nan   nan   nan  21.5  25.   50.    3.5  94.  194.   66. ]\n",
      " [  nan   nan   nan   nan   nan  22.5  25.   50.    2.5  93.  274.   82. ]\n",
      " [  nan   nan   nan   nan   nan  13.5  35.   50.    1.5  98.  218.   78. ]\n",
      " [  nan   nan   nan   nan   nan  23.5  25.   50.    1.5 101.  317.   94. ]\n",
      " [  nan   nan   nan   nan   nan  12.5  35.   50.    2.5  86.  232.   75. ]\n",
      " [  nan   nan   nan   nan   nan   1.5  45.   50.    3.5  91.  233.   79. ]\n",
      " [  nan   nan   nan   nan   nan   3.5  45.   50.    1.5  98.  194.   71. ]\n",
      " [  nan   nan   nan   nan   nan  22.5  25.   50.    2.5  99.  225.   82. ]\n",
      " [  nan   nan   nan   nan   nan   3.5  45.   50.    1.5  92.  239.   82. ]\n",
      " [  nan   nan   nan   nan   nan  11.5  35.   50.    3.5  93.  242.   77. ]\n",
      " [  nan   nan   nan   nan   nan   2.5  45.   50.    2.5  75.  276.   70. ]\n",
      " [  nan   nan   nan   nan   nan  23.5  25.   50.    1.5  72.  303.   70. ]\n",
      " [  nan   nan   nan   nan   nan   3.5  45.   50.    1.5  73.  229.   93. ]\n",
      " [  nan   nan   nan   nan   nan  12.5  35.   50.    2.5  76.  231.   89. ]\n",
      " [  nan   nan   nan   nan   nan  11.5  35.   50.    3.5  79.  210.   76. ]\n",
      " [  nan   nan   nan   nan   nan   2.5  45.   50.    2.5  79.  229.   79. ]\n",
      " [  nan   nan   nan   nan   nan  21.5  25.   50.    3.5  75.  220.   76. ]\n",
      " [  nan   nan   nan   nan   nan  13.5  35.   50.    1.5  80.  239.   81. ]\n",
      " [  nan   nan   nan   nan   nan  23.5  25.   50.    1.5  80.  240.   95. ]\n",
      " [  nan   nan   nan   nan   nan   1.5  45.   50.    3.5  76.  237.   83. ]\n",
      " [  nan   nan   nan   nan   nan   1.5  45.   50.    3.5  74.  266.   91. ]\n",
      " [  nan   nan   nan   nan   nan  11.5  35.   50.    3.5  72.  243.   83. ]\n",
      " [  nan   nan   nan   nan   nan  11.5  35.   50.    3.5  72.  270.   84. ]\n",
      " [  nan   nan   nan   nan   nan   2.5  45.   50.    2.5  76.  295.   84. ]\n",
      " [  nan   nan   nan   nan   nan  22.5  25.   50.    2.5  74.  223.   79. ]\n",
      " [  nan   nan   nan   nan   nan  13.5  35.   50.    1.5  77.  277.   90. ]\n",
      " [  nan   nan   nan   nan   nan   3.5  45.   50.    1.5  79.  187.   72. ]\n",
      " [  nan   nan   nan   nan   nan   2.5  45.   50.    2.5  76.  214.   81. ]\n",
      " [  nan   nan   nan   nan   nan  21.5  25.   50.    3.5  79.  206.   72. ]\n",
      " [  nan   nan   nan   nan   nan  12.5  35.   50.    2.5  80.  232.   73. ]\n",
      " [  nan   nan   nan   nan   nan  23.5  25.   50.    1.5  81.  203.   76. ]\n",
      " [  nan   nan   nan   nan   nan   2.5  45.   50.    2.5  85.  212.   88. ]\n",
      " [  nan   nan   nan   nan   nan   1.5  45.   50.    3.5  90.  167.  106. ]\n",
      " [  nan   nan   nan   nan   nan   3.5  45.   50.    1.5  86.  147.   99. ]\n",
      " [  nan   nan   nan   nan   nan   3.5  45.   50.    1.5  87.  102.   62. ]]\n"
     ]
    }
   ],
   "source": [
    "import sys\n",
    "import numpy as np\n",
    "from io import *\n",
    "\n",
    "\n",
    "#init lib path\n",
    "allforms_path = \"allforms_data.csv\"\n",
    "\n",
    "#init input vars\n",
    "phospholipid = \"\"\n",
    "ionizable_lipid = \"\"\n",
    "lipid_PEG = \"\"\n",
    "surface_DNA = \"\"\n",
    "user_size = \"\"\n",
    "\n",
    "#convert to numpy array\n",
    "array = np.genfromtxt(allforms_path, delimiter=\",\", skip_header=1)\n",
    "print(array)\n",
    "\n",
    "\n"
   ]
  },
  {
   "cell_type": "code",
   "execution_count": null,
   "metadata": {},
   "outputs": [],
   "source": []
  }
 ],
 "metadata": {
  "kernelspec": {
   "display_name": "Python 3.10.4 64-bit",
   "language": "python",
   "name": "python3"
  },
  "language_info": {
   "codemirror_mode": {
    "name": "ipython",
    "version": 3
   },
   "file_extension": ".py",
   "mimetype": "text/x-python",
   "name": "python",
   "nbconvert_exporter": "python",
   "pygments_lexer": "ipython3",
   "version": "3.10.4"
  },
  "orig_nbformat": 4,
  "vscode": {
   "interpreter": {
    "hash": "aee8b7b246df8f9039afb4144a1f6fd8d2ca17a180786b69acc140d282b71a49"
   }
  }
 },
 "nbformat": 4,
 "nbformat_minor": 2
}
